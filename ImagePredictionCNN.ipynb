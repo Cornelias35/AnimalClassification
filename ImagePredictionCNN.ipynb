{
 "cells": [
  {
   "cell_type": "markdown",
   "metadata": {},
   "source": [
    "To begin, we need to import PyTorch libraries. The components are can be thought at 2 part. The first part is corresponds to components that related to dataset loading. DataLoader, datasets and transforms are used component here. DataLoader and datasets are helping us to get dataset effectively by using optimized features. The transforms library used for data augmentation."
   ]
  },
  {
   "cell_type": "code",
   "execution_count": 1,
   "metadata": {},
   "outputs": [],
   "source": [
    "import torch\n",
    "from torch.utils.data import DataLoader\n",
    "from torchvision import datasets, transforms\n",
    "import torch.nn as nn\n",
    "import torch.nn.functional as F\n",
    "import torch.optim as optim"
   ]
  },
  {
   "cell_type": "markdown",
   "metadata": {},
   "source": [
    "The torch.manuel_seed() function used for getting same result in each run of code which increases reproducibility. "
   ]
  },
  {
   "cell_type": "code",
   "execution_count": 2,
   "metadata": {},
   "outputs": [
    {
     "data": {
      "text/plain": [
       "<torch._C.Generator at 0x27d55a26030>"
      ]
     },
     "execution_count": 2,
     "metadata": {},
     "output_type": "execute_result"
    }
   ],
   "source": [
    "torch.manual_seed(42)"
   ]
  },
  {
   "cell_type": "markdown",
   "metadata": {},
   "source": [
    "The torchvision.transforms used for data augmentation which helps the model to learn better and prevent overfitting. To do it, I used transforms.Compose() function which helps us to run all of transforms by once, which basically a pipeline."
   ]
  },
  {
   "cell_type": "code",
   "execution_count": 3,
   "metadata": {},
   "outputs": [],
   "source": [
    "train_transform = transforms.Compose([\n",
    "    transforms.Resize((128, 128)),  # Resizing images to 128x128 to make training faster\n",
    "    transforms.RandomHorizontalFlip(p=0.5), # Random horizontal flip with 50% probability\n",
    "    transforms.RandomRotation(degrees=30), # Random rotation with 30 degrees\n",
    "    transforms.ColorJitter(brightness=0.2, contrast=0.2, saturation=0.2, hue=0.1), # ColorJitter manipulates images based on hsv color space\n",
    "    transforms.RandomCrop(128, padding=16), # Randomly crop images with padding of 16 pixels\n",
    "    transforms.RandomGrayscale(p=0.2), # Randomly convert images to grayscale with 20% probability\n",
    "    transforms.RandomAffine(degrees=10, shear=10), # By preserving parallel lines, affine transformation is applied to images\n",
    "    transforms.ToTensor(), # Convert images to tensors to work with.\n",
    "])"
   ]
  },
  {
   "cell_type": "markdown",
   "metadata": {},
   "source": [
    "We transformed training images, however we don't do it with test dataset, so only using Resize, ToTensor and Normalize functions"
   ]
  },
  {
   "cell_type": "code",
   "execution_count": 4,
   "metadata": {},
   "outputs": [],
   "source": [
    "test_transform = transforms.Compose([\n",
    "    transforms.Resize((128, 128)),\n",
    "    transforms.ToTensor(),\n",
    "])"
   ]
  },
  {
   "cell_type": "markdown",
   "metadata": {},
   "source": [
    "The first thing to do, assign training dataset to \"dataset\" variable by using torchvision.datasets.ImageFolder() function. This function help us to assign folder names to class names and assign each of image to corresponding class. The root parameter used for folder path. Example usage is like this: \n",
    "\n",
    "> root\n",
    "- > > dog\n",
    "- > > > img1\n",
    "- > > > img2\n",
    "- > > cat\n",
    "- > > > img1\n",
    "- > > > img2\n",
    "- > > .."
   ]
  },
  {
   "cell_type": "code",
   "execution_count": 5,
   "metadata": {},
   "outputs": [],
   "source": [
    "dataset = datasets.ImageFolder(root='train')"
   ]
  },
  {
   "cell_type": "markdown",
   "metadata": {},
   "source": [
    "I assign the class names to labels parameter which I will use it to randomly split dataset to train and test. For doing it, I used dataset.targets function"
   ]
  },
  {
   "cell_type": "code",
   "execution_count": 6,
   "metadata": {},
   "outputs": [],
   "source": [
    "labels = dataset.targets"
   ]
  },
  {
   "cell_type": "markdown",
   "metadata": {},
   "source": [
    "For random split, I used sklearn.model_selection.train_test_split() function. Which is popular choice to split data."
   ]
  },
  {
   "cell_type": "code",
   "execution_count": 7,
   "metadata": {},
   "outputs": [],
   "source": [
    "from sklearn.model_selection import train_test_split"
   ]
  },
  {
   "cell_type": "markdown",
   "metadata": {},
   "source": [
    "The return of train_test_split gives us train and test indices. The inside of train_test_split function takes the indices for data, which is 0 to 6500. I gave 0.2 for test size. The stratify parameter ensures that each of class has %80 train and %20 test split. And the random_state for reproducibility."
   ]
  },
  {
   "cell_type": "code",
   "execution_count": 8,
   "metadata": {},
   "outputs": [],
   "source": [
    "train_indices, test_indices = train_test_split(\n",
    "    range(len(dataset)),\n",
    "    test_size=0.2,  # 20% for test\n",
    "    stratify=labels,  # Ensure class proportions are maintained\n",
    "    random_state=42  # For reproducibility\n",
    ")"
   ]
  },
  {
   "cell_type": "markdown",
   "metadata": {},
   "source": [
    "Now I have the indices, the next thing I will do it getting subset of original dataset. This subsets will based on train_indices and test_indices. For doing it, I used torch.utils.data.Subset() function."
   ]
  },
  {
   "cell_type": "code",
   "execution_count": 9,
   "metadata": {},
   "outputs": [
    {
     "data": {
      "text/plain": [
       "5200"
      ]
     },
     "execution_count": 9,
     "metadata": {},
     "output_type": "execute_result"
    }
   ],
   "source": [
    "len(train_indices)"
   ]
  },
  {
   "cell_type": "code",
   "execution_count": 10,
   "metadata": {},
   "outputs": [
    {
     "data": {
      "text/plain": [
       "1300"
      ]
     },
     "execution_count": 10,
     "metadata": {},
     "output_type": "execute_result"
    }
   ],
   "source": [
    "len(test_indices)"
   ]
  },
  {
   "cell_type": "code",
   "execution_count": 11,
   "metadata": {},
   "outputs": [],
   "source": [
    "from torch.utils.data import Subset"
   ]
  },
  {
   "cell_type": "code",
   "execution_count": 12,
   "metadata": {},
   "outputs": [],
   "source": [
    "train_dataset = Subset(dataset, train_indices)\n",
    "test_dataset = Subset(dataset, test_indices)"
   ]
  },
  {
   "cell_type": "markdown",
   "metadata": {},
   "source": [
    "Now, train and test dataset are ready to use. Before doing it, I applied transform function that I created early on."
   ]
  },
  {
   "cell_type": "code",
   "execution_count": 13,
   "metadata": {},
   "outputs": [],
   "source": [
    "train_dataset.dataset.transform = train_transform\n",
    "test_dataset.dataset.transform = test_transform"
   ]
  },
  {
   "cell_type": "markdown",
   "metadata": {},
   "source": [
    "Last thing is load datasets by using DataLoader() function. Inside of this, I gave batch_size which tell how many images should be given to model at each run. Shuffle used for give images random order and num_workers for better model performance."
   ]
  },
  {
   "cell_type": "code",
   "execution_count": 14,
   "metadata": {},
   "outputs": [],
   "source": [
    "train_dataloader = DataLoader(train_dataset, batch_size=64, shuffle=True, num_workers=4)\n",
    "test_dataloader = DataLoader(test_dataset, batch_size=64, shuffle=False, num_workers=4)"
   ]
  },
  {
   "cell_type": "markdown",
   "metadata": {},
   "source": [
    "After the preprocess step is done, the next step is creating Convolutional Neural Network. "
   ]
  },
  {
   "cell_type": "markdown",
   "metadata": {},
   "source": [
    "The cnn structure is init block and forward block. Inside of this two function we can do whatever sequence that we want. The model has 4 conv2d layer, max pooling after 2 conv2d layer ran, activation functions after each conv2d layer and batch normalization. "
   ]
  },
  {
   "cell_type": "markdown",
   "metadata": {},
   "source": [
    "To make code cleaner, I used torch.nn.Sequential function which helps us to run each of layer sequentially. "
   ]
  },
  {
   "cell_type": "markdown",
   "metadata": {},
   "source": [
    "### Conv2d takes input, generally rgb so it will be 3, and results with feature map. The feature map size is user choice."
   ]
  },
  {
   "cell_type": "markdown",
   "metadata": {},
   "source": [
    "### BatchNorm2d normalize the results after each feature map. The value of inside of it corresponds to input size."
   ]
  },
  {
   "cell_type": "markdown",
   "metadata": {},
   "source": [
    "### ReLU activation function makes everything 0, if the value is 0 or lower and value itself, if it is larger than 0."
   ]
  },
  {
   "cell_type": "markdown",
   "metadata": {},
   "source": [
    "### MaxPool2d is basically selecting max value inside of it matrix. For my example, it corresponds to 2x2 matrices."
   ]
  },
  {
   "cell_type": "markdown",
   "metadata": {},
   "source": [
    "self.classifier function is final step for cnn. It connects the feature maps, creating new layers and classify input based on results."
   ]
  },
  {
   "cell_type": "code",
   "execution_count": 15,
   "metadata": {},
   "outputs": [],
   "source": [
    "class CNN(nn.Module):\n",
    "    def __init__(self):\n",
    "        super().__init__()\n",
    "        self.features = nn.Sequential(\n",
    "            nn.Conv2d(3, 20, 3), # 128 - 3 + 1 = 126, After each convolution, the size of the image is reduced by 2 pixels\n",
    "            nn.BatchNorm2d(20), # Normalize the output of the convolutional layer\n",
    "            nn.ReLU(), # Activation function\n",
    "            nn.Conv2d(20, 40, 3), # 126 - 3 + 1 = 124, Again the size of image is reduced by 2 pixels\n",
    "            nn.BatchNorm2d(40), \n",
    "            nn.ReLU(),\n",
    "            nn.MaxPool2d(2, 2), # 124 / 2 = 62, Max pooling reduces the size of the image by half\n",
    "            nn.Conv2d(40, 80, 3), # 62 - 3 + 1 = 60\n",
    "            nn.BatchNorm2d(80),\n",
    "            nn.ReLU(),\n",
    "            nn.Conv2d(80, 160, 3), # 60 - 3 + 1 = 58\n",
    "            nn.BatchNorm2d(160),\n",
    "            nn.ReLU(),\n",
    "            nn.MaxPool2d(2, 2) # 58 / 2 = 29\n",
    "        )\n",
    "        self.classifier = nn.Sequential(\n",
    "            nn.Linear(160, 200), # We gave 160 as input because adaptive_avg_pool2d will return 160 features\n",
    "            nn.ReLU(), # Activation function\n",
    "            nn.Dropout(0.5), # Randomly drop 50% of the connections, which helps to prevent overfitting\n",
    "            nn.Linear(200, 100),\n",
    "            nn.ReLU(),\n",
    "            nn.Dropout(0.5),\n",
    "            nn.Linear(100, 10) # Because we have 10 classes, the last layer has 10 neurons\n",
    "        )\n",
    "    # Forward pass\n",
    "    def forward(self, x):\n",
    "        x = self.features(x) # Extract features\n",
    "        x = F.adaptive_avg_pool2d(x, (1, 1)) # Average pooling, the size of the image is reduced to 1x1\n",
    "        x = torch.flatten(x, 1) # Flatten the output of the convolutional layers\n",
    "        x = self.classifier(x) # Classify the image\n",
    "        return x # Return the output"
   ]
  },
  {
   "cell_type": "markdown",
   "metadata": {},
   "source": [
    "After CNN, we ready to classify images. To faster training, assign the model to cude, if it is possible."
   ]
  },
  {
   "cell_type": "code",
   "execution_count": 16,
   "metadata": {},
   "outputs": [],
   "source": [
    "device = torch.device('cuda' if torch.cuda.is_available() else 'cpu')"
   ]
  },
  {
   "cell_type": "code",
   "execution_count": 17,
   "metadata": {},
   "outputs": [],
   "source": [
    "cnn = CNN().to(device)"
   ]
  },
  {
   "cell_type": "markdown",
   "metadata": {},
   "source": [
    "To train model, we need to create criterion for loss function. Also optimizer to helping the model. For this one, I choosed the Adam optimizer with learning rate of 0.001. Because of large number of images, choosing small learning rate will lead to better results."
   ]
  },
  {
   "cell_type": "code",
   "execution_count": 18,
   "metadata": {},
   "outputs": [],
   "source": [
    "criterion = nn.CrossEntropyLoss()\n",
    "optimizer = optim.Adam(cnn.parameters(), lr=0.001)"
   ]
  },
  {
   "cell_type": "markdown",
   "metadata": {},
   "source": [
    "To usability, I created training function which takes model and epoch as input."
   ]
  },
  {
   "cell_type": "markdown",
   "metadata": {},
   "source": [
    "Inside of function, I ran training loop as given number of epoch."
   ]
  },
  {
   "cell_type": "code",
   "execution_count": 19,
   "metadata": {},
   "outputs": [],
   "source": [
    "def train_the_model(cnn, epoch):\n",
    "    \"\"\" \n",
    "    cnn : CNN model\n",
    "    epoch : Number of epochs\n",
    "\n",
    "    This function trains the model with the given number of epochs.\n",
    "    \"\"\"\n",
    "    # Loop over the dataset as given epoch.\n",
    "    for epoch in range(epoch):\n",
    "        # We set running loss as 0.0 for each epoch.\n",
    "        running_loss = 0.0\n",
    "        # Enumerate over the train dataloader.\n",
    "        for i, data in enumerate(train_dataloader, 0):\n",
    "            # Get the inputs and labels from the dataloader.\n",
    "            inputs, labels = data\n",
    "            # Assign each of them to device.\n",
    "            inputs, labels = inputs.to(device), labels.to(device)\n",
    "\n",
    "            # zero the parameter gradients\n",
    "            optimizer.zero_grad()\n",
    "\n",
    "            # Optimize the model with the loss function.\n",
    "            outputs = cnn(inputs)\n",
    "            loss = criterion(outputs, labels)\n",
    "            loss.backward()\n",
    "            optimizer.step()\n",
    "\n",
    "            # Get running loss\n",
    "            running_loss += loss.item()\n",
    "        # Calculate the average loss for each epoch.\n",
    "        epoch_loss = running_loss / len(train_dataloader)\n",
    "        # Print the average loss for each epoch.\n",
    "        print(f'Epoch [{epoch+1}/100], Average Loss: {epoch_loss:.4f}')"
   ]
  },
  {
   "cell_type": "markdown",
   "metadata": {},
   "source": [
    "After everything, we are ready to train our model. After all test I made, train the model with 100 epoch will lead good result."
   ]
  },
  {
   "cell_type": "code",
   "execution_count": 20,
   "metadata": {},
   "outputs": [],
   "source": [
    "epoch = 100"
   ]
  },
  {
   "cell_type": "code",
   "execution_count": 21,
   "metadata": {},
   "outputs": [
    {
     "name": "stdout",
     "output_type": "stream",
     "text": [
      "Epoch [1/100], Average Loss: 2.0544\n",
      "Epoch [2/100], Average Loss: 1.8886\n",
      "Epoch [3/100], Average Loss: 1.7860\n",
      "Epoch [4/100], Average Loss: 1.7345\n",
      "Epoch [5/100], Average Loss: 1.6605\n",
      "Epoch [6/100], Average Loss: 1.6026\n",
      "Epoch [7/100], Average Loss: 1.5329\n",
      "Epoch [8/100], Average Loss: 1.5246\n",
      "Epoch [9/100], Average Loss: 1.4723\n",
      "Epoch [10/100], Average Loss: 1.4070\n",
      "Epoch [11/100], Average Loss: 1.3621\n",
      "Epoch [12/100], Average Loss: 1.3295\n",
      "Epoch [13/100], Average Loss: 1.2732\n",
      "Epoch [14/100], Average Loss: 1.2401\n",
      "Epoch [15/100], Average Loss: 1.1985\n",
      "Epoch [16/100], Average Loss: 1.1740\n",
      "Epoch [17/100], Average Loss: 1.1428\n",
      "Epoch [18/100], Average Loss: 1.1163\n",
      "Epoch [19/100], Average Loss: 1.0992\n",
      "Epoch [20/100], Average Loss: 1.1006\n",
      "Epoch [21/100], Average Loss: 1.0892\n",
      "Epoch [22/100], Average Loss: 1.0484\n",
      "Epoch [23/100], Average Loss: 1.0397\n",
      "Epoch [24/100], Average Loss: 1.0269\n",
      "Epoch [25/100], Average Loss: 1.0002\n",
      "Epoch [26/100], Average Loss: 0.9811\n",
      "Epoch [27/100], Average Loss: 0.9605\n",
      "Epoch [28/100], Average Loss: 0.9634\n",
      "Epoch [29/100], Average Loss: 0.9133\n",
      "Epoch [30/100], Average Loss: 0.9137\n",
      "Epoch [31/100], Average Loss: 0.9067\n",
      "Epoch [32/100], Average Loss: 0.9089\n",
      "Epoch [33/100], Average Loss: 0.8981\n",
      "Epoch [34/100], Average Loss: 0.9039\n",
      "Epoch [35/100], Average Loss: 0.9043\n",
      "Epoch [36/100], Average Loss: 0.8988\n",
      "Epoch [37/100], Average Loss: 0.8660\n",
      "Epoch [38/100], Average Loss: 0.8933\n",
      "Epoch [39/100], Average Loss: 0.8502\n",
      "Epoch [40/100], Average Loss: 0.8653\n",
      "Epoch [41/100], Average Loss: 0.8507\n",
      "Epoch [42/100], Average Loss: 0.8420\n",
      "Epoch [43/100], Average Loss: 0.8413\n",
      "Epoch [44/100], Average Loss: 0.8210\n",
      "Epoch [45/100], Average Loss: 0.8107\n",
      "Epoch [46/100], Average Loss: 0.8105\n",
      "Epoch [47/100], Average Loss: 0.7777\n",
      "Epoch [48/100], Average Loss: 0.7948\n",
      "Epoch [49/100], Average Loss: 0.8173\n",
      "Epoch [50/100], Average Loss: 0.7636\n",
      "Epoch [51/100], Average Loss: 0.7438\n",
      "Epoch [52/100], Average Loss: 0.7562\n",
      "Epoch [53/100], Average Loss: 0.7751\n",
      "Epoch [54/100], Average Loss: 0.7590\n",
      "Epoch [55/100], Average Loss: 0.7221\n",
      "Epoch [56/100], Average Loss: 0.7168\n",
      "Epoch [57/100], Average Loss: 0.7110\n",
      "Epoch [58/100], Average Loss: 0.7217\n",
      "Epoch [59/100], Average Loss: 0.7058\n",
      "Epoch [60/100], Average Loss: 0.7085\n",
      "Epoch [61/100], Average Loss: 0.6744\n",
      "Epoch [62/100], Average Loss: 0.7027\n",
      "Epoch [63/100], Average Loss: 0.6980\n",
      "Epoch [64/100], Average Loss: 0.6987\n",
      "Epoch [65/100], Average Loss: 0.6594\n",
      "Epoch [66/100], Average Loss: 0.6631\n",
      "Epoch [67/100], Average Loss: 0.6459\n",
      "Epoch [68/100], Average Loss: 0.6324\n",
      "Epoch [69/100], Average Loss: 0.6491\n",
      "Epoch [70/100], Average Loss: 0.6308\n",
      "Epoch [71/100], Average Loss: 0.6666\n",
      "Epoch [72/100], Average Loss: 0.6432\n",
      "Epoch [73/100], Average Loss: 0.6435\n",
      "Epoch [74/100], Average Loss: 0.6292\n",
      "Epoch [75/100], Average Loss: 0.6117\n",
      "Epoch [76/100], Average Loss: 0.6235\n",
      "Epoch [77/100], Average Loss: 0.6073\n",
      "Epoch [78/100], Average Loss: 0.5914\n",
      "Epoch [79/100], Average Loss: 0.5822\n",
      "Epoch [80/100], Average Loss: 0.5927\n",
      "Epoch [81/100], Average Loss: 0.5748\n",
      "Epoch [82/100], Average Loss: 0.5599\n",
      "Epoch [83/100], Average Loss: 0.5676\n",
      "Epoch [84/100], Average Loss: 0.5492\n",
      "Epoch [85/100], Average Loss: 0.5687\n",
      "Epoch [86/100], Average Loss: 0.6064\n",
      "Epoch [87/100], Average Loss: 0.5904\n",
      "Epoch [88/100], Average Loss: 0.5614\n",
      "Epoch [89/100], Average Loss: 0.5293\n",
      "Epoch [90/100], Average Loss: 0.5517\n",
      "Epoch [91/100], Average Loss: 0.5639\n",
      "Epoch [92/100], Average Loss: 0.5352\n",
      "Epoch [93/100], Average Loss: 0.5178\n",
      "Epoch [94/100], Average Loss: 0.5239\n",
      "Epoch [95/100], Average Loss: 0.5251\n",
      "Epoch [96/100], Average Loss: 0.4717\n",
      "Epoch [97/100], Average Loss: 0.5015\n",
      "Epoch [98/100], Average Loss: 0.4645\n",
      "Epoch [99/100], Average Loss: 0.4788\n",
      "Epoch [100/100], Average Loss: 0.4931\n"
     ]
    }
   ],
   "source": [
    "train_the_model(cnn, epoch)"
   ]
  },
  {
   "cell_type": "markdown",
   "metadata": {},
   "source": [
    "To see how our model performed, I created function called get_scores. Inside of it, it shows accuracy of our model. Again, it takes model as input."
   ]
  },
  {
   "cell_type": "code",
   "execution_count": 22,
   "metadata": {},
   "outputs": [],
   "source": [
    "def get_scores(model):\n",
    "    # Get class labels\n",
    "    classes = list(train_dataset.dataset.class_to_idx.keys())\n",
    "    # Initialize the correct and total predictions\n",
    "    correct_prediction = 0\n",
    "    total_prediction = 0\n",
    "    # Prepare to count predictions for each class\n",
    "    correct_pred = {classname: 0 for classname in classes}\n",
    "    total_pred = {classname: 0 for classname in classes}\n",
    "\n",
    "    # Because we are not evaluating the model, we need to use torch.no_grad() function.\n",
    "    with torch.no_grad():\n",
    "        # Get the data from the test dataloader\n",
    "        for data in test_dataloader:\n",
    "            # Get images and labels and assign it to device\n",
    "            images, labels = data\n",
    "            images, labels = images.to(device), labels.to(device)\n",
    "            \n",
    "            # Predict the images\n",
    "            outputs = model(images)\n",
    "\n",
    "            # Get the maximum value of the predictions\n",
    "            _, predictions = torch.max(outputs, 1)\n",
    "\n",
    "            # Collect the correct predictions for each class\n",
    "            total_prediction += labels.size(0)\n",
    "            correct_prediction += (predictions == labels).sum().item()\n",
    "\n",
    "            # Assign the correct predictions for each class\n",
    "            for label, prediction in zip(labels, predictions):\n",
    "                if label == prediction:\n",
    "                    correct_pred[classes[label.item()]] += 1\n",
    "                total_pred[classes[label.item()]] += 1\n",
    "\n",
    "    # Print the accuracy of cnn.\n",
    "    print(f'Accuracy of the network on the {total_prediction} test images: {100 * correct_prediction / total_prediction:.2f} %')\n",
    "    \n",
    "    # Print accuracy for each class\n",
    "    for classname, correct_count in correct_pred.items():\n",
    "        accuracy = 100 * float(correct_count) / total_pred[classname]\n",
    "        print(f'Accuracy for class: {classname:5s} is {accuracy:.1f} %')"
   ]
  },
  {
   "cell_type": "markdown",
   "metadata": {},
   "source": [
    "Run the function to see how model performed."
   ]
  },
  {
   "cell_type": "code",
   "execution_count": 23,
   "metadata": {},
   "outputs": [
    {
     "name": "stdout",
     "output_type": "stream",
     "text": [
      "Accuracy of the network on the 1300 test images: 73.77 %\n",
      "Accuracy for class: collie is 76.9 %\n",
      "Accuracy for class: dolphin is 89.2 %\n",
      "Accuracy for class: elephant is 76.2 %\n",
      "Accuracy for class: fox   is 57.7 %\n",
      "Accuracy for class: giant+panda is 86.9 %\n",
      "Accuracy for class: moose is 71.5 %\n",
      "Accuracy for class: polar+bear is 87.7 %\n",
      "Accuracy for class: rabbit is 50.8 %\n",
      "Accuracy for class: sheep is 76.9 %\n",
      "Accuracy for class: squirrel is 63.8 %\n"
     ]
    }
   ],
   "source": [
    "get_scores(cnn)"
   ]
  },
  {
   "cell_type": "markdown",
   "metadata": {},
   "source": [
    "After the results, we can look at confusion matrix to how predictions are made. For doing it, I created another function to give us the confusion matrix."
   ]
  },
  {
   "cell_type": "code",
   "execution_count": 24,
   "metadata": {},
   "outputs": [],
   "source": [
    "import numpy as np\n",
    "import matplotlib.pyplot as plt\n",
    "from sklearn.metrics import confusion_matrix\n",
    "import pandas as pd\n",
    "import seaborn as sns"
   ]
  },
  {
   "cell_type": "code",
   "execution_count": 25,
   "metadata": {},
   "outputs": [],
   "source": [
    "def get_confusion_matrix(model):\n",
    "    # Get class labels.\n",
    "    classes = list(train_dataset.dataset.class_to_idx.keys())\n",
    "    # Initialize truelabels and prediction.\n",
    "    truelabels = []\n",
    "    predictions = []\n",
    "\n",
    "    # Get the data from test dataloader.\n",
    "    for data, target in test_dataloader:\n",
    "        # Assign each of them to device.\n",
    "        data, target = data.to(device), target.to(device)\n",
    "\n",
    "        # Get true label for each of class and assign it to truelabels list.\n",
    "        for label in target.data.cpu().numpy():\n",
    "            truelabels.append(label)\n",
    "        # Make predictions for each of class.\n",
    "        outputs = model(data)\n",
    "        _, predicted = torch.max(outputs.data, 1)\n",
    "        # Assign each of prediction to predictions list.\n",
    "        for prediction in predicted.cpu().numpy():\n",
    "            predictions.append(prediction)\n",
    "    \n",
    "    # Create confusion matrix from sklearn.metrics.\n",
    "    cm = confusion_matrix(truelabels, predictions)\n",
    "    # Create\n",
    "    tick_marks = np.arange(len(classes))\n",
    "    # Create data frame by using confusion matrix.\n",
    "    df_cm = pd.DataFrame(cm, index = classes, columns = classes)\n",
    "    # Creating figure\n",
    "    plt.figure(figsize = (7,7))\n",
    "    # Creating heatmap. \n",
    "    sns.heatmap(df_cm, annot=True, cmap=plt.cm.Blues, fmt='g')\n",
    "    # Adding labels.\n",
    "    plt.xlabel(\"Predicted Shape\", fontsize = 20)\n",
    "    plt.ylabel(\"True Shape\", fontsize = 20)\n",
    "    plt.show()\n",
    "    "
   ]
  },
  {
   "cell_type": "markdown",
   "metadata": {},
   "source": [
    "Run the confusion matrix function to see how our model performed."
   ]
  },
  {
   "cell_type": "code",
   "execution_count": 26,
   "metadata": {},
   "outputs": [
    {
     "data": {
      "image/png": "[encoded data removed]",
      "text/plain": [
       "<Figure size 700x700 with 2 Axes>"
      ]
     },
     "metadata": {},
     "output_type": "display_data"
    }
   ],
   "source": [
    "get_confusion_matrix(cnn)"
   ]
  },
  {
   "cell_type": "markdown",
   "metadata": {},
   "source": [
    "After everything, we need to save our model to use it further, or continue to training."
   ]
  },
  {
   "cell_type": "code",
   "execution_count": 27,
   "metadata": {},
   "outputs": [],
   "source": [
    "save_path = \"cnn_trained.pth\""
   ]
  },
  {
   "cell_type": "code",
   "execution_count": 28,
   "metadata": {},
   "outputs": [],
   "source": [
    "torch.save({\n",
    "        'epoch': epoch,\n",
    "        'model_state_dict': cnn.state_dict(),\n",
    "        'optimizer_state_dict': optimizer.state_dict(),\n",
    "    }, save_path)"
   ]
  },
  {
   "cell_type": "markdown",
   "metadata": {},
   "source": [
    "To work with different types, we need to save train and test samples in a file since we need them later."
   ]
  },
  {
   "cell_type": "code",
   "execution_count": 29,
   "metadata": {},
   "outputs": [],
   "source": [
    "torch.save(train_dataset, 'train_dataset.pth')\n",
    "torch.save(test_dataset, 'test_dataset.pth')"
   ]
  },
  {
   "cell_type": "markdown",
   "metadata": {},
   "source": [
    "Now we can manipulate test dataset to see how our model perform in different image manipulation techniques."
   ]
  }
 ],
 "metadata": {
  "kernelspec": {
   "display_name": "yolo_env",
   "language": "python",
   "name": "python3"
  },
  "language_info": {
   "codemirror_mode": {
    "name": "ipython",
    "version": 3
   },
   "file_extension": ".py",
   "mimetype": "text/x-python",
   "name": "python",
   "nbconvert_exporter": "python",
   "pygments_lexer": "ipython3",
   "version": "3.12.8"
  }
 },
 "nbformat": 4,
 "nbformat_minor": 2
}
